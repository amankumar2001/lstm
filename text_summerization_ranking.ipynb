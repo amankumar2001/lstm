{
  "nbformat": 4,
  "nbformat_minor": 0,
  "metadata": {
    "colab": {
      "name": "text-summerization-ranking.ipynb",
      "provenance": [],
      "mount_file_id": "1-V387waEKwrTXTVmT7pQ1BTQbpGkTyYA",
      "authorship_tag": "ABX9TyNezF5kyfVaX2zg+0bGTLAC",
      "include_colab_link": true
    },
    "kernelspec": {
      "name": "python3",
      "display_name": "Python 3"
    },
    "language_info": {
      "name": "python"
    }
  },
  "cells": [
    {
      "cell_type": "markdown",
      "metadata": {
        "id": "view-in-github",
        "colab_type": "text"
      },
      "source": [
        "<a href=\"https://colab.research.google.com/github/amankumar2001/lstm/blob/main/text_summerization_ranking.ipynb\" target=\"_parent\"><img src=\"https://colab.research.google.com/assets/colab-badge.svg\" alt=\"Open In Colab\"/></a>"
      ]
    },
    {
      "cell_type": "code",
      "metadata": {
        "colab": {
          "base_uri": "https://localhost:8080/"
        },
        "id": "bSvlPX8Bt8lF",
        "outputId": "e2aed281-30e6-4873-adc2-d27604a593bb"
      },
      "source": [
        "import networkx\n",
        " # A graph structure related operation package, it doesn’t matter if you haven’t used it before, you can search and learn if you are interested\n",
        "import numpy as np\n",
        "import pandas as pd\n",
        "import nltk\n",
        "nltk.download('punkt')\n",
        "nltk.download('stopwords')\n",
        " # Download the segmentation and stop word data, download it once, and comment out the subsequent runs\n",
        "from sklearn.metrics.pairwise import cosine_similarity\n",
        "import re\n",
        "from nltk.tokenize import sent_tokenize\n",
        "from nltk.corpus import stopwords\n",
        "\n",
        "df = pd.read_csv('/content/drive/MyDrive/data/tennis_articles_v4.csv')\n",
        " # Read the article data, the download link is attached to the original text\n"
      ],
      "execution_count": null,
      "outputs": [
        {
          "output_type": "stream",
          "text": [
            "[nltk_data] Downloading package punkt to /root/nltk_data...\n",
            "[nltk_data]   Package punkt is already up-to-date!\n",
            "[nltk_data] Downloading package stopwords to /root/nltk_data...\n",
            "[nltk_data]   Package stopwords is already up-to-date!\n"
          ],
          "name": "stdout"
        }
      ]
    },
    {
      "cell_type": "code",
      "metadata": {
        "colab": {
          "base_uri": "https://localhost:8080/",
          "height": 171
        },
        "id": "CycFMLcgvftR",
        "outputId": "eef5ccb1-c0d8-4d20-d715-887a42b5a236"
      },
      "source": [
        "df['article_text'][1]"
      ],
      "execution_count": null,
      "outputs": [
        {
          "output_type": "execute_result",
          "data": {
            "application/vnd.google.colaboratory.intrinsic+json": {
              "type": "string"
            },
            "text/plain": [
              "\"BASEL, Switzerland (AP), Roger Federer advanced to the 14th Swiss Indoors final of his career by beating seventh-seeded Daniil Medvedev 6-1, 6-4 on Saturday. Seeking a ninth title at his hometown event, and a 99th overall, Federer will play 93th-ranked Marius Copil on Sunday. Federer dominated the 20th-ranked Medvedev and had his first match-point chance to break serve again at 5-1. He then dropped his serve to love, and let another match point slip in Medvedev's next service game by netting a backhand. He clinched on his fourth chance when Medvedev netted from the baseline. Copil upset expectations of a Federer final against Alexander Zverev in a 6-3, 6-7 (6), 6-4 win over the fifth-ranked German in the earlier semifinal. The Romanian aims for a first title after arriving at Basel without a career win over a top-10 opponent. Copil has two after also beating No. 6 Marin Cilic in the second round. Copil fired 26 aces past Zverev and never dropped serve, clinching after 2 1/2 hours with a forehand volley winner to break Zverev for the second time in the semifinal. He came through two rounds of qualifying last weekend to reach the Basel main draw, including beating Zverev's older brother, Mischa. Federer had an easier time than in his only previous match against Medvedev, a three-setter at Shanghai two weeks ago.\""
            ]
          },
          "metadata": {
            "tags": []
          },
          "execution_count": 5
        }
      ]
    },
    {
      "cell_type": "code",
      "metadata": {
        "id": "NAe66XvfvrBw"
      },
      "source": [
        "from nltk.tokenize import sent_tokenize\n",
        "sentences = []\n",
        "for s in df['article_text']:\n",
        "    sentences.append(sent_tokenize(s))\n",
        "\n",
        "sentences = [y for x in sentences for y in x]"
      ],
      "execution_count": null,
      "outputs": []
    },
    {
      "cell_type": "code",
      "metadata": {
        "id": "L0NTkI1Xvsv0"
      },
      "source": [
        "word_embeddings = {}\n",
        "f = open('/content/gdrive/MyDrive/data/glove.6B.100d.txt', encoding='utf-8')\n",
        "for line in f:\n",
        "    values = line.split()\n",
        "    word = values[0]\n",
        "    coefs = np.asarray(values[1:], dtype='float32')\n",
        "    word_embeddings[word] = coefs\n",
        "f.close()\n",
        "\n",
        "clean_sentences = pd.Series(sentences).str.replace(\"[^a-zA-Z]\", \" \")\n",
        "clean_sentences = [s.lower() for s in clean_sentences]\n",
        "stop_words = stopwords.words('english')\n",
        "def remove_stopwords(sen):\n",
        "    sen_new = \" \".join([i for i in sen if i not in stop_words])\n",
        "    return sen_new\n",
        "clean_sentences = [remove_stopwords(r.split()) for r in clean_sentences]"
      ],
      "execution_count": null,
      "outputs": []
    },
    {
      "cell_type": "code",
      "metadata": {
        "id": "uwFRLLz44rKd"
      },
      "source": [
        "sentence_vectors = []\n",
        "for i in clean_sentences:\n",
        "  if len(i) != 0:\n",
        "    v = sum([word_embeddings.get(w, np.zeros((100,))) for w in i.split()])/(len(i.split())+0.001)\n",
        "  else:\n",
        "    v = np.zeros((100,))\n",
        "  sentence_vectors.append(v)"
      ],
      "execution_count": null,
      "outputs": []
    },
    {
      "cell_type": "code",
      "metadata": {
        "id": "BmkJ4KrM4vig"
      },
      "source": [
        "sim_mat = np.zeros([len(sentences), len(sentences)])\n",
        "from sklearn.metrics.pairwise import cosine_similarity\n",
        "for i in range(len(sentences)):\n",
        "  for j in range(len(sentences)):\n",
        "    if i != j:\n",
        "      sim_mat[i][j] = cosine_similarity(sentence_vectors[i].reshape(1,100), sentence_vectors[j].reshape(1,100))[0,0]"
      ],
      "execution_count": null,
      "outputs": []
    },
    {
      "cell_type": "code",
      "metadata": {
        "id": "ssDhRoyF41Q5"
      },
      "source": [
        "import networkx as nx\n",
        "\n",
        "nx_graph = nx.from_numpy_array(sim_mat)\n",
        "scores = nx.pagerank(nx_graph)"
      ],
      "execution_count": null,
      "outputs": []
    },
    {
      "cell_type": "code",
      "metadata": {
        "colab": {
          "base_uri": "https://localhost:8080/"
        },
        "id": "4SOOACF644nm",
        "outputId": "d9783859-f0bc-4f94-edb6-bb38052b0ca8"
      },
      "source": [
        "ranked_sentences = sorted(((scores[i],s) for i,s in enumerate(sentences)), reverse=True)\n",
        "for i in range(5):\n",
        "  print(\"ARTICLE:\")\n",
        "  print(df['article_text'][i])\n",
        "  print('\\n')\n",
        "  print(\"SUMMARY:\")\n",
        "  print(ranked_sentences[i][1])\n",
        "  print('\\n')"
      ],
      "execution_count": null,
      "outputs": [
        {
          "output_type": "stream",
          "text": [
            "ARTICLE:\n",
            "Maria Sharapova has basically no friends as tennis players on the WTA Tour. The Russian player has no problems in openly speaking about it and in a recent interview she said: 'I don't really hide any feelings too much. I think everyone knows this is my job here. When I'm on the courts or when I'm on the court playing, I'm a competitor and I want to beat every single person whether they're in the locker room or across the net.So I'm not the one to strike up a conversation about the weather and know that in the next few minutes I have to go and try to win a tennis match. I'm a pretty competitive girl. I say my hellos, but I'm not sending any players flowers as well. Uhm, I'm not really friendly or close to many players. I have not a lot of friends away from the courts.' When she said she is not really close to a lot of players, is that something strategic that she is doing? Is it different on the men's tour than the women's tour? 'No, not at all. I think just because you're in the same sport doesn't mean that you have to be friends with everyone just because you're categorized, you're a tennis player, so you're going to get along with tennis players. I think every person has different interests. I have friends that have completely different jobs and interests, and I've met them in very different parts of my life. I think everyone just thinks because we're tennis players we should be the greatest of friends. But ultimately tennis is just a very small part of what we do. There are so many other things that we're interested in, that we do.'\n",
            "\n",
            "\n",
            "SUMMARY:\n",
            "When I'm on the courts or when I'm on the court playing, I'm a competitor and I want to beat every single person whether they're in the locker room or across the net.So I'm not the one to strike up a conversation about the weather and know that in the next few minutes I have to go and try to win a tennis match.\n",
            "\n",
            "\n",
            "ARTICLE:\n",
            "BASEL, Switzerland (AP), Roger Federer advanced to the 14th Swiss Indoors final of his career by beating seventh-seeded Daniil Medvedev 6-1, 6-4 on Saturday. Seeking a ninth title at his hometown event, and a 99th overall, Federer will play 93th-ranked Marius Copil on Sunday. Federer dominated the 20th-ranked Medvedev and had his first match-point chance to break serve again at 5-1. He then dropped his serve to love, and let another match point slip in Medvedev's next service game by netting a backhand. He clinched on his fourth chance when Medvedev netted from the baseline. Copil upset expectations of a Federer final against Alexander Zverev in a 6-3, 6-7 (6), 6-4 win over the fifth-ranked German in the earlier semifinal. The Romanian aims for a first title after arriving at Basel without a career win over a top-10 opponent. Copil has two after also beating No. 6 Marin Cilic in the second round. Copil fired 26 aces past Zverev and never dropped serve, clinching after 2 1/2 hours with a forehand volley winner to break Zverev for the second time in the semifinal. He came through two rounds of qualifying last weekend to reach the Basel main draw, including beating Zverev's older brother, Mischa. Federer had an easier time than in his only previous match against Medvedev, a three-setter at Shanghai two weeks ago.\n",
            "\n",
            "\n",
            "SUMMARY:\n",
            "Major players feel that a big event in late November combined with one in January before the Australian Open will mean too much tennis and too little rest.\n",
            "\n",
            "\n",
            "ARTICLE:\n",
            "Roger Federer has revealed that organisers of the re-launched and condensed Davis Cup gave him three days to decide if he would commit to the controversial competition. Speaking at the Swiss Indoors tournament where he will play in Sundays final against Romanian qualifier Marius Copil, the world number three said that given the impossibly short time frame to make a decision, he opted out of any commitment. \"They only left me three days to decide\", Federer said. \"I didn't to have time to consult with all the people I had to consult. \"I could not make a decision in that time, so I told them to do what they wanted.\" The 20-time Grand Slam champion has voiced doubts about the wisdom of the one-week format to be introduced by organisers Kosmos, who have promised the International Tennis Federation up to $3 billion in prize money over the next quarter-century. The competition is set to feature 18 countries in the November 18-24 finals in Madrid next year, and will replace the classic home-and-away ties played four times per year for decades. Kosmos is headed by Barcelona footballer Gerard Pique, who is hoping fellow Spaniard Rafael Nadal will play in the upcoming event. Novak Djokovic has said he will give precedence to the ATP's intended re-launch of the defunct World Team Cup in January 2020, at various Australian venues. Major players feel that a big event in late November combined with one in January before the Australian Open will mean too much tennis and too little rest. Federer said earlier this month in Shanghai in that his chances of playing the Davis Cup were all but non-existent. \"I highly doubt it, of course. We will see what happens,\" he said. \"I do not think this was designed for me, anyhow. This was designed for the future generation of players.\" Argentina and Britain received wild cards to the new-look event, and will compete along with the four 2018 semi-finalists and the 12 teams who win qualifying rounds next February. \"I don't like being under that kind of pressure,\" Federer said of the deadline Kosmos handed him.\n",
            "\n",
            "\n",
            "SUMMARY:\n",
            "Speaking at the Swiss Indoors tournament where he will play in Sundays final against Romanian qualifier Marius Copil, the world number three said that given the impossibly short time frame to make a decision, he opted out of any commitment.\n",
            "\n",
            "\n",
            "ARTICLE:\n",
            "Kei Nishikori will try to end his long losing streak in ATP finals and Kevin Anderson will go for his second title of the year at the Erste Bank Open on Sunday. The fifth-seeded Nishikori reached his third final of 2018 after beating Mikhail Kukushkin of Kazakhstan 6-4, 6-3 in the semifinals. A winner of 11 ATP events, Nishikori hasn't triumphed since winning in Memphis in February 2016. He has lost eight straight finals since. The second-seeded Anderson defeated Fernando Verdasco 6-3, 3-6, 6-4. Anderson has a shot at a fifth career title and second of the year after winning in New York in February. Nishikori leads Anderson 4-2 on career matchups, but the South African won their only previous meeting this year. With a victory on Sunday, Anderson will qualify for the ATP Finals. Currently in ninth place, Nishikori with a win could move to within 125 points of the cut for the eight-man event in London next month. Nishikori held serve throughout against Kukushkin, who came through qualifying. He used his first break point to close out the first set before going up 3-0 in the second and wrapping up the win on his first match point. Against Verdasco, Anderson hit nine of his 19 aces in the opening set. The Spaniard broke Anderson twice in the second but didn't get another chance on the South African's serve in the final set.\n",
            "\n",
            "\n",
            "SUMMARY:\n",
            "\"I felt like the best weeks that I had to get to know players when I was playing were the Fed Cup weeks or the Olympic weeks, not necessarily during the tournaments.\n",
            "\n",
            "\n",
            "ARTICLE:\n",
            "Federer, 37, first broke through on tour over two decades ago and he has since gone on to enjoy a glittering career. The 20-time Grand Slam winner is chasing his 99th ATP title at the Swiss Indoors this week and he faces Jan-Lennard Struff in the second round on Thursday (6pm BST). Davenport enjoyed most of her success in the late 1990s and her third and final major tournament win came at the 2000 Australian Open. But she claims the mentality of professional tennis players slowly began to change after the new millennium. \"It seems pretty friendly right now,\" said Davenport. \"I think there is a really nice environment and a great atmosphere, especially between some of the veteran players helping some of the younger players out. \"It's a very pleasant atmosphere, I'd have to say, around the locker rooms. \"I felt like the best weeks that I had to get to know players when I was playing were the Fed Cup weeks or the Olympic weeks, not necessarily during the tournaments. \"And even though maybe we had smaller teams, I still think we kept to ourselves quite a bit. \"Not always, but I really feel like in the mid-2000 years there was a huge shift of the attitudes of the top players and being more friendly and being more giving, and a lot of that had to do with players like Roger coming up. \"I just felt like it really kind of changed where people were a little bit, definitely in the 90s, a lot more quiet, into themselves, and then it started to become better.\" Meanwhile, Federer is hoping he can improve his service game as he hunts his ninth Swiss Indoors title this week. \"I didn't serve very well [against first-round opponent Filip Kranjovic,\" Federer said. \"I think I was misfiring the corners, I was not hitting the lines enough. \"Clearly you make your life more difficult, but still I was up 6-2, 3-1, break points, so things could have ended very quickly today, even though I didn't have the best serve percentage stats. \"But maybe that's exactly what caught up to me eventually. It's just getting used to it. This is where the first rounds can be tricky.\"\n",
            "\n",
            "\n",
            "SUMMARY:\n",
            "Currently in ninth place, Nishikori with a win could move to within 125 points of the cut for the eight-man event in London next month.\n",
            "\n",
            "\n"
          ],
          "name": "stdout"
        }
      ]
    },
    {
      "cell_type": "code",
      "metadata": {
        "colab": {
          "base_uri": "https://localhost:8080/"
        },
        "id": "sBxGRte-5RAB",
        "outputId": "dbebfa25-2ec7-4f16-cd43-bda84cc32021"
      },
      "source": [
        "print(ranked_sentences)"
      ],
      "execution_count": null,
      "outputs": [
        {
          "output_type": "stream",
          "text": [
            "[(0.009293791287246101, \"When I'm on the courts or when I'm on the court playing, I'm a competitor and I want to beat every single person whether they're in the locker room or across the net.So I'm not the one to strike up a conversation about the weather and know that in the next few minutes I have to go and try to win a tennis match.\"), (0.009260614586854345, 'Major players feel that a big event in late November combined with one in January before the Australian Open will mean too much tennis and too little rest.'), (0.009244521571573308, 'Speaking at the Swiss Indoors tournament where he will play in Sundays final against Romanian qualifier Marius Copil, the world number three said that given the impossibly short time frame to make a decision, he opted out of any commitment.'), (0.009213900328590938, '\"I felt like the best weeks that I had to get to know players when I was playing were the Fed Cup weeks or the Olympic weeks, not necessarily during the tournaments.'), (0.009203588164545732, 'Currently in ninth place, Nishikori with a win could move to within 125 points of the cut for the eight-man event in London next month.'), (0.009136178564424067, 'He used his first break point to close out the first set before going up 3-0 in the second and wrapping up the win on his first match point.'), (0.009104756564812836, \"The Spaniard broke Anderson twice in the second but didn't get another chance on the South African's serve in the final set.\"), (0.009102625726884866, '\"We also had the impression that at this stage it might be better to play matches than to train.'), (0.009097421441929054, 'The competition is set to feature 18 countries in the November 18-24 finals in Madrid next year, and will replace the classic home-and-away ties played four times per year for decades.'), (0.00909480738475193, 'Federer said earlier this month in Shanghai in that his chances of playing the Davis Cup were all but non-existent.'), (0.009093905759714915, 'Roger Federer has revealed that organisers of the re-launched and condensed Davis Cup gave him three days to decide if he would commit to the controversial competition.'), (0.009089363711694932, 'Davenport enjoyed most of her success in the late 1990s and her third and final major tournament win came at the 2000 Australian Open.'), (0.009064760809020828, 'Because it was not always easy in the last weeks.\"'), (0.009061683003650822, 'Federer had an easier time than in his only previous match against Medvedev, a three-setter at Shanghai two weeks ago.'), (0.009059878094325857, 'Argentina and Britain received wild cards to the new-look event, and will compete along with the four 2018 semi-finalists and the 12 teams who win qualifying rounds next February.'), (0.009040595481224366, '\"On Monday, I am free and will look how I feel,\" Federer said after winning the Swiss Indoors.'), (0.009031689944726076, '\"Clearly you make your life more difficult, but still I was up 6-2, 3-1, break points, so things could have ended very quickly today, even though I didn\\'t have the best serve percentage stats.'), (0.009016694522978017, '\"Not always, but I really feel like in the mid-2000 years there was a huge shift of the attitudes of the top players and being more friendly and being more giving, and a lot of that had to do with players like Roger coming up.'), (0.009016568306673578, 'Meanwhile, Federer is hoping he can improve his service game as he hunts his ninth Swiss Indoors title this week.'), (0.00901497608995499, 'Kei Nishikori will try to end his long losing streak in ATP finals and Kevin Anderson will go for his second title of the year at the Erste Bank Open on Sunday.'), (0.008996828746548306, 'The end of the season is finally in sight, and with so many players defending,or losing,huge chunks of points in Singapore, Zhuhai and London, podcast co-hosts Nina Pantic and Irina Falconi discuss the art of defending points (02:14).'), (0.008994323928725814, '\"They only left me three days to decide\", Federer said.'), (0.008991766362928408, 'The Romanian aims for a first title after arriving at Basel without a career win over a top-10 opponent.'), (0.00896652809128202, \"The world No 1 has been forced to miss Spain's Davis Cup clash with France and the Asian hard court season.\"), (0.008945847068847905, \"Nadal's appearance in Paris is a big boost to the tournament organisers who could see Roger Federer withdraw.\"), (0.008943539641210715, 'Federer, 37, first broke through on tour over two decades ago and he has since gone on to enjoy a glittering career.'), (0.008942212482182608, \"Federer's success in Basel last week was the ninth time he has won his hometown tournament.\"), (0.00892832272000545, 'But first the 20-time Grand Slam winner wants to train on the Paris Masters court this afternoon before deciding whether to appear for his opening match against either Milos Raonic or Jo-Wilfried Tsonga.'), (0.008919130492987544, 'The 20-time Grand Slam champion has voiced doubts about the wisdom of the one-week format to be introduced by organisers Kosmos, who have promised the International Tennis Federation up to $3 billion in prize money over the next quarter-century.'), (0.008913135597756963, \"He came through two rounds of qualifying last weekend to reach the Basel main draw, including beating Zverev's older brother, Mischa.\"), (0.008912100616736349, 'But with the ATP World Tour Finals due to begin next month, Nadal is ready to prove his fitness before the season-ending event at the 02 Arena.'), (0.00889875815763709, 'It makes me incredibly happy to win my home tournament and make people happy here.'), (0.008894835971032663, \"It's a big deal because you never forget your first.\"), (0.008883452090560847, \"Novak Djokovic has said he will give precedence to the ATP's intended re-launch of the defunct World Team Cup in January 2020, at various Australian venues.\"), (0.008880329999098843, '\"I felt good all week and better every day.'), (0.008860865272110666, \"He then dropped his serve to love, and let another match point slip in Medvedev's next service game by netting a backhand.\"), (0.008860552382933833, \"I think just because you're in the same sport doesn't mean that you have to be friends with everyone just because you're categorized, you're a tennis player, so you're going to get along with tennis players.\"), (0.008856328221479538, 'In Singapore, one of the biggest storylines (aside from the matches, of course) has been the on-court coaching debate.'), (0.008855870133449222, '\"Maybe I should celebrate as if it were my last title.'), (0.008847892197876472, 'Federer dominated the 20th-ranked Medvedev and had his first match-point chance to break serve again at 5-1.'), (0.008835781707750769, 'Federer has been handed a difficult draw where could could come across Kevin Anderson, Novak Djokovic and Rafael Nadal in the latter rounds.'), (0.00883135554204633, \"Let's also not forget his two Grand Slam doubles triumphs this season.\"), (0.008817233998265152, '\"I didn\\'t serve very well [against first-round opponent Filip Kranjovic,\" Federer said.'), (0.008803651674754007, 'Nadal could then play defending champion Jack Sock in the third round before a potential quarter-final with either Borna Coric or Dominic Thiem.'), (0.008774774561520874, 'He could lose 1,400 points in the next few weeks, but instead of focusing on the negative, it can all be about perspective (06:28).'), (0.00874902921636975, 'But she claims the mentality of professional tennis players slowly began to change after the new millennium.'), (0.008747703117965263, \"Federer's projected route to the Paris final could also lead to matches against Kevin Anderson and Novak Djokovic.\"), (0.008731683804879445, 'Djokovic could play Marco Cecchinato in the second round.'), (0.008715866177458747, '\"I do not know if it\\'s maybe my last title, so today I try a lot more to absorb that and enjoy the moments much more consciously.'), (0.008709578504141008, 'Two players, Stefanos Tsitsipas and Kyle Edmund, won their first career ATP titles last week (13:26).'), (0.00870909302347104, '\"I could not make a decision in that time, so I told them to do what they wanted.\"'), (0.008700002629298398, 'Anderson has a shot at a fifth career title and second of the year after winning in New York in February.'), (0.008688526195816391, 'Nadal flew to Paris on Friday and footage from the Paris Masters official Twitter account shows the Spaniard smiling as he strides onto court for practice.'), (0.008681512720777515, 'He has lost eight straight finals since.'), (0.008678156677253964, 'Federer is in action at the Swiss Indoors in Basel and if he reaches the final, he could pull out of Paris in a bid to stay fresh for London.'), (0.008674617072972858, '\"And even though maybe we had smaller teams, I still think we kept to ourselves quite a bit.'), (0.008665996969401108, 'Nishikori leads Anderson 4-2 on career matchups, but the South African won their only previous meeting this year.'), (0.008656528130422673, '\"It seems pretty friendly right now,\" said Davenport.'), (0.008622437809648414, 'The Paris Masters draw has been made and Nadal will start his campaign on Tuesday or Wednesday against either Fernando Verdasco or Jeremy Chardy.'), (0.008621842454018609, 'The 37-year-old claimed his 99th ATP title and is hunting the century in the French capital this week.'), (0.008617309966607692, '\"I think there is a really nice environment and a great atmosphere, especially between some of the veteran players helping some of the younger players out.'), (0.0086094616748507, '\"And as long as I fear no injury, I play.\"'), (0.008596957831776629, 'When she said she is not really close to a lot of players, is that something strategic that she is doing?'), (0.008574003198645335, 'Nadal has not played tennis since he was forced to retire from the US Open semi-finals against Juan Martin Del Porto with a knee injury.'), (0.00856830038172713, '\"My children, my parents, my sister and my team are all there,\" Federer added.'), (0.00855689304327121, 'But ultimately tennis is just a very small part of what we do.'), (0.00855283109976143, \"It's no secret that Jack Sock has struggled on the singles court this year (his record is 7-19).\"), (0.008547315032853605, '\"I don\\'t like being under that kind of pressure,\" Federer said of the deadline Kosmos handed him.'), (0.008546416443897854, 'The 20-time Grand Slam winner is chasing his 99th ATP title at the Swiss Indoors this week and he faces Jan-Lennard Struff in the second round on Thursday (6pm BST).'), (0.008502881073903974, '\"On Tuesday I will fly to Paris and train in the afternoon to be ready for my first match on Wednesday night.'), (0.008501993305467095, \"The Russian player has no problems in openly speaking about it and in a recent interview she said: 'I don't really hide any feelings too much.\"), (0.008477413410840564, \"Uhm, I'm not really friendly or close to many players.\"), (0.008467251026799811, 'British No 1 Kyle Edmund is the 12th seed in Paris and will get underway in round two against either Karen Khachanov or Filip Krajinovic.'), (0.008463970416187735, 'Copil has two after also beating No.'), (0.00844331689249351, \"I think everyone just thinks because we're tennis players we should be the greatest of friends.\"), (0.00843619291207031, '\"I just felt like it really kind of changed where people were a little bit, definitely in the 90s, a lot more quiet, into themselves, and then it started to become better.\"'), (0.008420356604520798, 'Nina and Irina give their opinions on what coaching should look like in the future, on both tours (18:55).'), (0.008406020981041979, 'Seeking a ninth title at his hometown event, and a 99th overall, Federer will play 93th-ranked Marius Copil on Sunday.'), (0.008388685874934451, 'Irina looks back at her WTA title win in Bogota in 2016, and tells an unforgettable story about her semifinal drama (14:04).'), (0.008327135496048674, '\"It means the world to me.'), (0.008306575009655532, 'But as it stands, Federer is in the draw and is scheduled to face either former world No 3 Milos Raonic or Jo-Wilfried Tsonga in the second round.'), (0.008276617437462162, 'Nishikori held serve throughout against Kukushkin, who came through qualifying.'), (0.00825714424529151, \"Is it different on the men's tour than the women's tour?\"), (0.008251000778010125, \"I have not a lot of friends away from the courts.'\"), (0.008232471583451702, 'Copil fired 26 aces past Zverev and never dropped serve, clinching after 2 1/2 hours with a forehand volley winner to break Zverev for the second time in the semifinal.'), (0.00822343401476627, 'Copil upset expectations of a Federer final against Alexander Zverev in a 6-3, 6-7 (6), 6-4 win over the fifth-ranked German in the earlier semifinal.'), (0.008156804670239782, \"I have friends that have completely different jobs and interests, and I've met them in very different parts of my life.\"), (0.008146814822101289, \"I say my hellos, but I'm not sending any players flowers as well.\"), (0.00811856100442082, 'With a victory on Sunday, Anderson will qualify for the ATP Finals.'), (0.00810748332695721, '\"But maybe that\\'s exactly what caught up to me eventually.'), (0.008083543253002173, 'I think every person has different interests.'), (0.008082033178688672, '\"It is always very emotional for me to thank my team.'), (0.008072651812837249, 'Maria Sharapova has basically no friends as tennis players on the WTA Tour.'), (0.008071958126597788, 'BASEL, Switzerland (AP), Roger Federer advanced to the 14th Swiss Indoors final of his career by beating seventh-seeded Daniil Medvedev 6-1, 6-4 on Saturday.'), (0.008035132144914886, 'This is where the first rounds can be tricky.\"'), (0.008031673751930634, '\"I highly doubt it, of course.'), (0.00801188408992867, 'Against Verdasco, Anderson hit nine of his 19 aces in the opening set.'), (0.007971530785458713, 'We will see what happens,\" he said.'), (0.007933352603250135, 'This was designed for the future generation of players.\"'), (0.007911644636405571, \"A winner of 11 ATP events, Nishikori hasn't triumphed since winning in Memphis in February 2016.\"), (0.007889359687336901, '\"There are very touching moments: seeing the ball children, the standing ovations, all the familiar faces in the audience.'), (0.00787748707682875, \"It's just getting used to it.\"), (0.007873247676977725, '\"I think I was misfiring the corners, I was not hitting the lines enough.'), (0.007851104227014384, 'Federer won the Swiss Indoors last week by beating Romanian qualifier Marius Copil in the final.'), (0.007812826598034563, \"There are so many other things that we're interested in, that we do.'\"), (0.007811931832998158, 'I think everyone knows this is my job here.'), (0.0077578444050171716, 'And he was delighted to be watched on by all of his family and friends as he purchased 60 tickets for the final for those dearest to him.'), (0.007715970772210733, 'Kosmos is headed by Barcelona footballer Gerard Pique, who is hoping fellow Spaniard Rafael Nadal will play in the upcoming event.'), (0.007500319341702238, \"I'm a pretty competitive girl.\"), (0.0074219170502842395, 'He clinched on his fourth chance when Medvedev netted from the baseline.'), (0.00727603025735902, '\"It\\'s a very pleasant atmosphere, I\\'d have to say, around the locker rooms.'), (0.007259944437717519, 'The fifth-seeded Nishikori reached his third final of 2018 after beating Mikhail Kukushkin of Kazakhstan 6-4, 6-3 in the semifinals.'), (0.007236869161912383, '\"I didn\\'t to have time to consult with all the people I had to consult.'), (0.0070490621493050415, '\"I do not think this was designed for me, anyhow.'), (0.0067018981235010605, '6 Marin Cilic in the second round.'), (0.006696434571359527, 'The second-seeded Anderson defeated Fernando Verdasco 6-3, 3-6, 6-4.'), (0.006109321272117455, 'And sometimes it tilts with the emotions, sometimes I just stumble.'), (0.005651524729040954, 'Tennis giveth, and tennis taketh away.'), (0.0012695751770095795, \"'No, not at all.\")]\n"
          ],
          "name": "stdout"
        }
      ]
    },
    {
      "cell_type": "code",
      "metadata": {
        "colab": {
          "base_uri": "https://localhost:8080/"
        },
        "id": "IksvbqPYwiwC",
        "outputId": "24814293-7f28-49fd-f9bd-4743e20b54b2"
      },
      "source": [
        "print(sentences)"
      ],
      "execution_count": null,
      "outputs": [
        {
          "output_type": "stream",
          "text": [
            "['Maria Sharapova has basically no friends as tennis players on the WTA Tour.', \"The Russian player has no problems in openly speaking about it and in a recent interview she said: 'I don't really hide any feelings too much.\", 'I think everyone knows this is my job here.', \"When I'm on the courts or when I'm on the court playing, I'm a competitor and I want to beat every single person whether they're in the locker room or across the net.So I'm not the one to strike up a conversation about the weather and know that in the next few minutes I have to go and try to win a tennis match.\", \"I'm a pretty competitive girl.\", \"I say my hellos, but I'm not sending any players flowers as well.\", \"Uhm, I'm not really friendly or close to many players.\", \"I have not a lot of friends away from the courts.'\", 'When she said she is not really close to a lot of players, is that something strategic that she is doing?', \"Is it different on the men's tour than the women's tour?\", \"'No, not at all.\", \"I think just because you're in the same sport doesn't mean that you have to be friends with everyone just because you're categorized, you're a tennis player, so you're going to get along with tennis players.\", 'I think every person has different interests.', \"I have friends that have completely different jobs and interests, and I've met them in very different parts of my life.\", \"I think everyone just thinks because we're tennis players we should be the greatest of friends.\", 'But ultimately tennis is just a very small part of what we do.', \"There are so many other things that we're interested in, that we do.'\", 'BASEL, Switzerland (AP), Roger Federer advanced to the 14th Swiss Indoors final of his career by beating seventh-seeded Daniil Medvedev 6-1, 6-4 on Saturday.', 'Seeking a ninth title at his hometown event, and a 99th overall, Federer will play 93th-ranked Marius Copil on Sunday.', 'Federer dominated the 20th-ranked Medvedev and had his first match-point chance to break serve again at 5-1.', \"He then dropped his serve to love, and let another match point slip in Medvedev's next service game by netting a backhand.\", 'He clinched on his fourth chance when Medvedev netted from the baseline.', 'Copil upset expectations of a Federer final against Alexander Zverev in a 6-3, 6-7 (6), 6-4 win over the fifth-ranked German in the earlier semifinal.', 'The Romanian aims for a first title after arriving at Basel without a career win over a top-10 opponent.', 'Copil has two after also beating No.', '6 Marin Cilic in the second round.', 'Copil fired 26 aces past Zverev and never dropped serve, clinching after 2 1/2 hours with a forehand volley winner to break Zverev for the second time in the semifinal.', \"He came through two rounds of qualifying last weekend to reach the Basel main draw, including beating Zverev's older brother, Mischa.\", 'Federer had an easier time than in his only previous match against Medvedev, a three-setter at Shanghai two weeks ago.', 'Roger Federer has revealed that organisers of the re-launched and condensed Davis Cup gave him three days to decide if he would commit to the controversial competition.', 'Speaking at the Swiss Indoors tournament where he will play in Sundays final against Romanian qualifier Marius Copil, the world number three said that given the impossibly short time frame to make a decision, he opted out of any commitment.', '\"They only left me three days to decide\", Federer said.', '\"I didn\\'t to have time to consult with all the people I had to consult.', '\"I could not make a decision in that time, so I told them to do what they wanted.\"', 'The 20-time Grand Slam champion has voiced doubts about the wisdom of the one-week format to be introduced by organisers Kosmos, who have promised the International Tennis Federation up to $3 billion in prize money over the next quarter-century.', 'The competition is set to feature 18 countries in the November 18-24 finals in Madrid next year, and will replace the classic home-and-away ties played four times per year for decades.', 'Kosmos is headed by Barcelona footballer Gerard Pique, who is hoping fellow Spaniard Rafael Nadal will play in the upcoming event.', \"Novak Djokovic has said he will give precedence to the ATP's intended re-launch of the defunct World Team Cup in January 2020, at various Australian venues.\", 'Major players feel that a big event in late November combined with one in January before the Australian Open will mean too much tennis and too little rest.', 'Federer said earlier this month in Shanghai in that his chances of playing the Davis Cup were all but non-existent.', '\"I highly doubt it, of course.', 'We will see what happens,\" he said.', '\"I do not think this was designed for me, anyhow.', 'This was designed for the future generation of players.\"', 'Argentina and Britain received wild cards to the new-look event, and will compete along with the four 2018 semi-finalists and the 12 teams who win qualifying rounds next February.', '\"I don\\'t like being under that kind of pressure,\" Federer said of the deadline Kosmos handed him.', 'Kei Nishikori will try to end his long losing streak in ATP finals and Kevin Anderson will go for his second title of the year at the Erste Bank Open on Sunday.', 'The fifth-seeded Nishikori reached his third final of 2018 after beating Mikhail Kukushkin of Kazakhstan 6-4, 6-3 in the semifinals.', \"A winner of 11 ATP events, Nishikori hasn't triumphed since winning in Memphis in February 2016.\", 'He has lost eight straight finals since.', 'The second-seeded Anderson defeated Fernando Verdasco 6-3, 3-6, 6-4.', 'Anderson has a shot at a fifth career title and second of the year after winning in New York in February.', 'Nishikori leads Anderson 4-2 on career matchups, but the South African won their only previous meeting this year.', 'With a victory on Sunday, Anderson will qualify for the ATP Finals.', 'Currently in ninth place, Nishikori with a win could move to within 125 points of the cut for the eight-man event in London next month.', 'Nishikori held serve throughout against Kukushkin, who came through qualifying.', 'He used his first break point to close out the first set before going up 3-0 in the second and wrapping up the win on his first match point.', 'Against Verdasco, Anderson hit nine of his 19 aces in the opening set.', \"The Spaniard broke Anderson twice in the second but didn't get another chance on the South African's serve in the final set.\", 'Federer, 37, first broke through on tour over two decades ago and he has since gone on to enjoy a glittering career.', 'The 20-time Grand Slam winner is chasing his 99th ATP title at the Swiss Indoors this week and he faces Jan-Lennard Struff in the second round on Thursday (6pm BST).', 'Davenport enjoyed most of her success in the late 1990s and her third and final major tournament win came at the 2000 Australian Open.', 'But she claims the mentality of professional tennis players slowly began to change after the new millennium.', '\"It seems pretty friendly right now,\" said Davenport.', '\"I think there is a really nice environment and a great atmosphere, especially between some of the veteran players helping some of the younger players out.', '\"It\\'s a very pleasant atmosphere, I\\'d have to say, around the locker rooms.', '\"I felt like the best weeks that I had to get to know players when I was playing were the Fed Cup weeks or the Olympic weeks, not necessarily during the tournaments.', '\"And even though maybe we had smaller teams, I still think we kept to ourselves quite a bit.', '\"Not always, but I really feel like in the mid-2000 years there was a huge shift of the attitudes of the top players and being more friendly and being more giving, and a lot of that had to do with players like Roger coming up.', '\"I just felt like it really kind of changed where people were a little bit, definitely in the 90s, a lot more quiet, into themselves, and then it started to become better.\"', 'Meanwhile, Federer is hoping he can improve his service game as he hunts his ninth Swiss Indoors title this week.', '\"I didn\\'t serve very well [against first-round opponent Filip Kranjovic,\" Federer said.', '\"I think I was misfiring the corners, I was not hitting the lines enough.', '\"Clearly you make your life more difficult, but still I was up 6-2, 3-1, break points, so things could have ended very quickly today, even though I didn\\'t have the best serve percentage stats.', '\"But maybe that\\'s exactly what caught up to me eventually.', \"It's just getting used to it.\", 'This is where the first rounds can be tricky.\"', 'Nadal has not played tennis since he was forced to retire from the US Open semi-finals against Juan Martin Del Porto with a knee injury.', \"The world No 1 has been forced to miss Spain's Davis Cup clash with France and the Asian hard court season.\", 'But with the ATP World Tour Finals due to begin next month, Nadal is ready to prove his fitness before the season-ending event at the 02 Arena.', 'Nadal flew to Paris on Friday and footage from the Paris Masters official Twitter account shows the Spaniard smiling as he strides onto court for practice.', 'The Paris Masters draw has been made and Nadal will start his campaign on Tuesday or Wednesday against either Fernando Verdasco or Jeremy Chardy.', 'Nadal could then play defending champion Jack Sock in the third round before a potential quarter-final with either Borna Coric or Dominic Thiem.', \"Nadal's appearance in Paris is a big boost to the tournament organisers who could see Roger Federer withdraw.\", 'Federer is in action at the Swiss Indoors in Basel and if he reaches the final, he could pull out of Paris in a bid to stay fresh for London.', 'But as it stands, Federer is in the draw and is scheduled to face either former world No 3 Milos Raonic or Jo-Wilfried Tsonga in the second round.', \"Federer's projected route to the Paris final could also lead to matches against Kevin Anderson and Novak Djokovic.\", 'Djokovic could play Marco Cecchinato in the second round.', 'British No 1 Kyle Edmund is the 12th seed in Paris and will get underway in round two against either Karen Khachanov or Filip Krajinovic.', 'Tennis giveth, and tennis taketh away.', 'The end of the season is finally in sight, and with so many players defending,or losing,huge chunks of points in Singapore, Zhuhai and London, podcast co-hosts Nina Pantic and Irina Falconi discuss the art of defending points (02:14).', \"It's no secret that Jack Sock has struggled on the singles court this year (his record is 7-19).\", 'He could lose 1,400 points in the next few weeks, but instead of focusing on the negative, it can all be about perspective (06:28).', \"Let's also not forget his two Grand Slam doubles triumphs this season.\", 'Two players, Stefanos Tsitsipas and Kyle Edmund, won their first career ATP titles last week (13:26).', \"It's a big deal because you never forget your first.\", 'Irina looks back at her WTA title win in Bogota in 2016, and tells an unforgettable story about her semifinal drama (14:04).', 'In Singapore, one of the biggest storylines (aside from the matches, of course) has been the on-court coaching debate.', 'Nina and Irina give their opinions on what coaching should look like in the future, on both tours (18:55).', 'Federer won the Swiss Indoors last week by beating Romanian qualifier Marius Copil in the final.', 'The 37-year-old claimed his 99th ATP title and is hunting the century in the French capital this week.', 'Federer has been handed a difficult draw where could could come across Kevin Anderson, Novak Djokovic and Rafael Nadal in the latter rounds.', 'But first the 20-time Grand Slam winner wants to train on the Paris Masters court this afternoon before deciding whether to appear for his opening match against either Milos Raonic or Jo-Wilfried Tsonga.', '\"On Monday, I am free and will look how I feel,\" Federer said after winning the Swiss Indoors.', '\"On Tuesday I will fly to Paris and train in the afternoon to be ready for my first match on Wednesday night.', '\"I felt good all week and better every day.', '\"We also had the impression that at this stage it might be better to play matches than to train.', '\"And as long as I fear no injury, I play.\"', \"Federer's success in Basel last week was the ninth time he has won his hometown tournament.\", 'And he was delighted to be watched on by all of his family and friends as he purchased 60 tickets for the final for those dearest to him.', '\"My children, my parents, my sister and my team are all there,\" Federer added.', '\"It is always very emotional for me to thank my team.', 'And sometimes it tilts with the emotions, sometimes I just stumble.', '\"It means the world to me.', 'It makes me incredibly happy to win my home tournament and make people happy here.', '\"I do not know if it\\'s maybe my last title, so today I try a lot more to absorb that and enjoy the moments much more consciously.', '\"Maybe I should celebrate as if it were my last title.', '\"There are very touching moments: seeing the ball children, the standing ovations, all the familiar faces in the audience.', 'Because it was not always easy in the last weeks.\"']\n"
          ],
          "name": "stdout"
        }
      ]
    }
  ]
}